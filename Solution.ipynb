{
 "cells": [
  {
   "cell_type": "code",
   "execution_count": 7,
   "metadata": {},
   "outputs": [],
   "source": [
    "import cv2\n",
    "import numpy as np\n",
    "import matplotlib.image as mpimg\n",
    "import matplotlib.pyplot as plt\n",
    "from sklearn.cluster import KMeans\n",
    "%matplotlib qt"
   ]
  },
  {
   "cell_type": "code",
   "execution_count": 121,
   "metadata": {},
   "outputs": [],
   "source": [
    "#AUXILIARY FUNCTIONS\n",
    "\n",
    "def prepare_image(image):\n",
    "    #this function filters the red points of an image\n",
    "    img_hsv = cv2.cvtColor(image, cv2.COLOR_BGR2HSV)\n",
    "\n",
    "    lower_red = np.array([0,50,50])\n",
    "    upper_red = np.array([10,255,255])\n",
    "    mask0 = cv2.inRange(img_hsv, lower_red, upper_red)\n",
    "\n",
    "    # upper mask (170-180)\n",
    "    lower_red = np.array([170,50,50])\n",
    "    upper_red = np.array([180,255,255])\n",
    "    mask1 = cv2.inRange(img_hsv, lower_red, upper_red)\n",
    "\n",
    "    # join my masks\n",
    "    mask = mask0+mask1\n",
    "\n",
    "    filtered = cv2.bitwise_and(image,image, mask= mask)\n",
    "    return mask\n",
    "\n",
    "def get_cluster(mask):\n",
    "     #this function runs KMeans on the filtered points (i.e. the mask)\n",
    "    rows = np.where(mask == 255)[0]\n",
    "    cols =  np.where(mask == 255)[1]\n",
    "    X = np.hstack((cols.reshape(len(cols),1), rows.reshape(len(rows),1)))\n",
    "    alg = KMeans(n_clusters = 4)\n",
    "    res = alg.fit(X)\n",
    "    plt.plot(cols, rows, \"o\", label = \"red pixels\", color = \"red\")\n",
    "    plt.plot(res.cluster_centers_[:,0],res.cluster_centers_[:,1], \"o\", color = \"blue\", label = \"centers\")\n",
    "    plt.legend()\n",
    "\n",
    "    return X, res.cluster_centers_\n",
    "\n",
    "def stack_images(X0, X1):\n",
    "    #this function stacks the two sets of points and runs KMeans on them\n",
    "    X3 = np.vstack((X0,X1))\n",
    "    alg = KMeans(n_clusters = 4)\n",
    "    res = alg.fit(X3)\n",
    "    plt.plot(X3[:,0], X3[:,1], \"o\", label = \"red pixels\", color = \"red\")\n",
    "    plt.plot(res.cluster_centers_[:,0],res.cluster_centers_[:,1], \"o\", color = \"blue\", markersize = 10, label = \"centers\")\n",
    "    plt.legend()\n",
    "    return X3, res.cluster_centers_, res\n",
    "\n",
    "\n",
    "\n",
    "def get_index_2(a, X):\n",
    "     #This function returns the position of a inside X\n",
    "    return np.where(np.sum(X == a, axis = 1) == 2)\n",
    "\n",
    "\n",
    "def get_pairings(X_centers, X2_centers, X3, res):\n",
    "    pairings = []\n",
    "    X_centers = np.round(X_centers)\n",
    "    X2_centers = np.round(X2_centers)\n",
    "    for i in range(len(X_centers)):\n",
    "        for j in range(len(X2_centers)):\n",
    "            ind1 = get_index_2(X_centers[i], X3)\n",
    "            ind2 = get_index_2(X2_centers[j], X3)\n",
    "            label1 = res.labels_[ind1]\n",
    "            label2 = res.labels_[ind2]\n",
    "            if label1 == label2:\n",
    "                plt.plot(np.array([X3[ind1][0][0], X3[ind2][0][0]]), np.array([X3[ind1][0][1], X3[ind2][0][1]]))\n",
    "                pairings.append([X3[ind1], X3[ind2]])\n",
    "    return pairings\n",
    "\n",
    "\n",
    "def coordinates_converter(pairings, shape0, shape1):\n",
    "    for pair in pairings:\n",
    "        pair[0] = pair[0].astype(float)\n",
    "        pair[1] = pair[1].astype(float)\n",
    "        pair[0] *= np.array([shape0[1] /1000, shape0[0] /1000])\n",
    "        pair[1] *= np.array([shape1[1]/1000, shape1[0]/1000])\n",
    "        pair[0] = np.round(pair[0])\n",
    "        pair[1] = np.round(pair[1])\n",
    "    return pairings\n",
    "\n",
    "\n",
    "#FUNCTION TO SOLVE TASK1\n",
    "\n",
    "def approximate_centers(name_image0):\n",
    "    plt.clf()\n",
    "    image0 = cv2.imread(name_image0)\n",
    "    \n",
    "    plt.imshow(image0)\n",
    "    \n",
    "    mask0 = prepare_image(image0)\n",
    "    \n",
    "    X0, X0_centers = get_cluster(mask0)\n",
    "    \n",
    "    return np.round(X0_centers)\n",
    "\n",
    "#FUNCTION TO SOLVE BONUS QUESTION\n",
    "\n",
    "def pair_points(name_image0, name_image1):\n",
    "    plt.clf()\n",
    "    image0 = cv2.imread(name_image0)\n",
    "    image1 = cv2.imread(name_image1)\n",
    "    shape0 = image0.shape\n",
    "    shape1 = image1.shape\n",
    "    image0 = cv2.resize(image0, (1000,1000))\n",
    "    image1 = cv2.resize(image1, (1000,1000))\n",
    "    \n",
    "    plt.imshow(image0)\n",
    "    plt.imshow(image1)\n",
    "\n",
    "    \n",
    "    \n",
    "    mask0 = prepare_image(image0)\n",
    "    mask1 = prepare_image(image1)\n",
    "    \n",
    "    X0, X0_centers = get_cluster(mask0)\n",
    "    X1, X1_centers = get_cluster(mask1)\n",
    "    \n",
    "    X3, X3_centers, resX3 = stack_images(X0, X1)\n",
    "    return coordinates_converter(get_pairings(X0_centers, X1_centers, X3, resX3), shape0, shape1)\n",
    "  "
   ]
  },
  {
   "cell_type": "code",
   "execution_count": 125,
   "metadata": {},
   "outputs": [],
   "source": [
    "#Uncomment the function calls to test on the 4 images in the folder\n",
    "\n",
    "#TASK1\n",
    "#approximate_centers(\"image0.png\")\n",
    "#approximate_centers(\"image2.png\")\n",
    "\n",
    "###BONUS QUESTION\n",
    "#SAME IMAGE\n",
    "#pair_points(\"image0.png\", \"image1.png\")\n",
    "#IMAGES WITH DIFFERENT SIZES (in this case the second image is actually shown)\n",
    "#pair_points(\"image0.png\", \"image2.png\")"
   ]
  },
  {
   "cell_type": "code",
   "execution_count": null,
   "metadata": {},
   "outputs": [],
   "source": []
  },
  {
   "cell_type": "code",
   "execution_count": null,
   "metadata": {},
   "outputs": [],
   "source": []
  },
  {
   "cell_type": "code",
   "execution_count": null,
   "metadata": {},
   "outputs": [],
   "source": []
  },
  {
   "cell_type": "code",
   "execution_count": null,
   "metadata": {},
   "outputs": [],
   "source": []
  },
  {
   "cell_type": "code",
   "execution_count": null,
   "metadata": {},
   "outputs": [],
   "source": [
    "\n"
   ]
  },
  {
   "cell_type": "code",
   "execution_count": 59,
   "metadata": {},
   "outputs": [],
   "source": [
    "\n",
    "\n",
    "\n"
   ]
  },
  {
   "cell_type": "code",
   "execution_count": null,
   "metadata": {},
   "outputs": [],
   "source": []
  },
  {
   "cell_type": "code",
   "execution_count": null,
   "metadata": {},
   "outputs": [],
   "source": []
  },
  {
   "cell_type": "code",
   "execution_count": null,
   "metadata": {},
   "outputs": [],
   "source": []
  },
  {
   "cell_type": "code",
   "execution_count": null,
   "metadata": {},
   "outputs": [],
   "source": []
  },
  {
   "cell_type": "code",
   "execution_count": null,
   "metadata": {},
   "outputs": [],
   "source": []
  },
  {
   "cell_type": "code",
   "execution_count": null,
   "metadata": {},
   "outputs": [],
   "source": []
  },
  {
   "cell_type": "code",
   "execution_count": null,
   "metadata": {},
   "outputs": [],
   "source": []
  },
  {
   "cell_type": "code",
   "execution_count": null,
   "metadata": {},
   "outputs": [],
   "source": []
  },
  {
   "cell_type": "code",
   "execution_count": null,
   "metadata": {},
   "outputs": [],
   "source": []
  }
 ],
 "metadata": {
  "kernelspec": {
   "display_name": "Python 3",
   "language": "python",
   "name": "python3"
  },
  "language_info": {
   "codemirror_mode": {
    "name": "ipython",
    "version": 3
   },
   "file_extension": ".py",
   "mimetype": "text/x-python",
   "name": "python",
   "nbconvert_exporter": "python",
   "pygments_lexer": "ipython3",
   "version": "3.7.3"
  }
 },
 "nbformat": 4,
 "nbformat_minor": 2
}
